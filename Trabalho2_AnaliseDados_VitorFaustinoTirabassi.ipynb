{
  "nbformat": 4,
  "nbformat_minor": 0,
  "metadata": {
    "colab": {
      "provenance": [],
      "authorship_tag": "ABX9TyNG1RdGvQXTIps7+MChB+7K",
      "include_colab_link": true
    },
    "kernelspec": {
      "name": "python3",
      "display_name": "Python 3"
    },
    "language_info": {
      "name": "python"
    }
  },
  "cells": [
    {
      "cell_type": "markdown",
      "metadata": {
        "id": "view-in-github",
        "colab_type": "text"
      },
      "source": [
        "<a href=\"https://colab.research.google.com/github/vitao-bolado/Trabalho2_AnaliseDados/blob/main/Trabalho2_AnaliseDados_VitorFaustinoTirabassi.ipynb\" target=\"_parent\"><img src=\"https://colab.research.google.com/assets/colab-badge.svg\" alt=\"Open In Colab\"/></a>"
      ]
    },
    {
      "cell_type": "markdown",
      "source": [
        "#**Trabalho 2 - Análise de Desempenho Estudantil**\n",
        "Desenvolvido por** Vitor Faustino Tirabassi\n",
        "\n",
        "O objetivo é elaborar uma análise dos fatores que influenciam o desempenho acadêmico dos estudantes\n",
        "\n",
        "Desafios:\n",
        "\n",
        "* Avaliar a influência de sono, motivação e atividades extracurriculares.\n",
        "\n",
        "* Verificar o impacto do nível socioeconômico.\n",
        "\n",
        "* Identficar padrões de sucesso escolar.\n",
        "\n",
        "\n",
        "\n",
        "\n"
      ],
      "metadata": {
        "id": "Nv-HLkvHPGko"
      }
    },
    {
      "cell_type": "markdown",
      "source": [
        "##**Etapa 1 - Importação das bibliotecas necessárias**\n",
        "\n",
        "Nesta etapa, serão impotadas as bibliotecas\n",
        "necessárias. Estas bibliotecas fornecem ferramentas para manipulação de dados (pandas, numpy),\n",
        "visualização (matplotlib, seaborn) e criação e avaliação de modelos preditivos (sklearn)."
      ],
      "metadata": {
        "id": "TWzumwCeQwRq"
      }
    },
    {
      "cell_type": "code",
      "source": [
        "# Manipulação de dados\n",
        "import pandas as pd\n",
        "import numpy as np\n",
        "\n",
        "# Visualização de dados\n",
        "import matplotlib.pyplot as plt\n",
        "import seaborn as sns\n",
        "\n",
        "# Modelagem de dados\n",
        "from sklearn.model_selection import train_test_split\n",
        "from sklearn.preprocessing import LabelEncoder, StandardScaler\n",
        "from sklearn.linear_model import LogisticRegression, LinearRegression\n",
        "from sklearn.tree import DecisionTreeClassifier, DecisionTreeRegressor\n",
        "from sklearn.ensemble import RandomForestClassifier, RandomForestRegressor\n",
        "from sklearn.svm import SVC, SVR\n",
        "from sklearn.neighbors import KNeighborsClassifier\n",
        "\n",
        "# Avaliação dos modelos\n",
        "from sklearn.metrics import accuracy_score, precision_score, recall_score, f1_score\n",
        "from sklearn.metrics import mean_squared_error, mean_absolute_error\n",
        "\n",
        "# Configurações gerais\n",
        "import warnings\n",
        "warnings.filterwarnings('ignore')\n",
        "\n",
        "# Conexão com Google Drive\n",
        "from google.colab import drive\n",
        "drive.mount('/content/drive')\n",
        "\n",
        "path = \"/content/drive/MyDrive\""
      ],
      "metadata": {
        "colab": {
          "base_uri": "https://localhost:8080/"
        },
        "id": "25NoCYEyXoKv",
        "outputId": "a4d331fd-5446-454b-9477-787855050f09"
      },
      "execution_count": 2,
      "outputs": [
        {
          "output_type": "stream",
          "name": "stdout",
          "text": [
            "Mounted at /content/drive\n"
          ]
        }
      ]
    },
    {
      "cell_type": "markdown",
      "source": [
        "##**Etapa 2 - Carregamento e visualização inicial dos dados**\n",
        "\n",
        "Nesta etapa, é carregada a base de dados fornecida e observada sua estrutura, permitindo entender quais variáveis estão presentes, seus tipos e se existem problemas\n",
        "iniciais como dados ausentes ou colunas desnecessárias."
      ],
      "metadata": {
        "id": "-b_HDjJNXwnC"
      }
    },
    {
      "cell_type": "code",
      "source": [
        "# Leitura do arquivo CSV\n",
        "df = pd.read_csv(\"/content/drive/MyDrive/03_desempenho_estudantil.csv\")\n",
        "\n",
        "# Exibir as primeiras 5 linhas\n",
        "df.head()"
      ],
      "metadata": {
        "colab": {
          "base_uri": "https://localhost:8080/",
          "height": 226
        },
        "id": "Fg9ly-BVYScW",
        "outputId": "d6f99f1f-0d7b-463d-8b1b-15c5b5dd6985"
      },
      "execution_count": 3,
      "outputs": [
        {
          "output_type": "execute_result",
          "data": {
            "text/plain": [
              "   Hours_Studied  Attendance Parental_Involvement Access_to_Resources  \\\n",
              "0             23          84                  Low                High   \n",
              "1             19          64                  Low              Medium   \n",
              "2             24          98               Medium              Medium   \n",
              "3             29          89                  Low              Medium   \n",
              "4             19          92               Medium              Medium   \n",
              "\n",
              "  Extracurricular_Activities  Sleep_Hours  Previous_Scores Motivation_Level  \\\n",
              "0                         No            7               73              Low   \n",
              "1                         No            8               59              Low   \n",
              "2                        Yes            7               91           Medium   \n",
              "3                        Yes            8               98           Medium   \n",
              "4                        Yes            6               65           Medium   \n",
              "\n",
              "  Internet_Access  Tutoring_Sessions Family_Income Teacher_Quality  \\\n",
              "0             Yes                  0           Low          Medium   \n",
              "1             Yes                  2        Medium          Medium   \n",
              "2             Yes                  2        Medium          Medium   \n",
              "3             Yes                  1        Medium          Medium   \n",
              "4             Yes                  3        Medium            High   \n",
              "\n",
              "  School_Type Peer_Influence  Physical_Activity Learning_Disabilities  \\\n",
              "0      Public       Positive                  3                    No   \n",
              "1      Public       Negative                  4                    No   \n",
              "2      Public        Neutral                  4                    No   \n",
              "3      Public       Negative                  4                    No   \n",
              "4      Public        Neutral                  4                    No   \n",
              "\n",
              "  Parental_Education_Level Distance_from_Home  Gender  Exam_Score  \n",
              "0              High School               Near    Male          67  \n",
              "1                  College           Moderate  Female          61  \n",
              "2             Postgraduate               Near    Male          74  \n",
              "3              High School           Moderate    Male          71  \n",
              "4                  College               Near  Female          70  "
            ],
            "text/html": [
              "\n",
              "  <div id=\"df-649a3d56-68c3-4cf1-b840-e1aaf08824a5\" class=\"colab-df-container\">\n",
              "    <div>\n",
              "<style scoped>\n",
              "    .dataframe tbody tr th:only-of-type {\n",
              "        vertical-align: middle;\n",
              "    }\n",
              "\n",
              "    .dataframe tbody tr th {\n",
              "        vertical-align: top;\n",
              "    }\n",
              "\n",
              "    .dataframe thead th {\n",
              "        text-align: right;\n",
              "    }\n",
              "</style>\n",
              "<table border=\"1\" class=\"dataframe\">\n",
              "  <thead>\n",
              "    <tr style=\"text-align: right;\">\n",
              "      <th></th>\n",
              "      <th>Hours_Studied</th>\n",
              "      <th>Attendance</th>\n",
              "      <th>Parental_Involvement</th>\n",
              "      <th>Access_to_Resources</th>\n",
              "      <th>Extracurricular_Activities</th>\n",
              "      <th>Sleep_Hours</th>\n",
              "      <th>Previous_Scores</th>\n",
              "      <th>Motivation_Level</th>\n",
              "      <th>Internet_Access</th>\n",
              "      <th>Tutoring_Sessions</th>\n",
              "      <th>Family_Income</th>\n",
              "      <th>Teacher_Quality</th>\n",
              "      <th>School_Type</th>\n",
              "      <th>Peer_Influence</th>\n",
              "      <th>Physical_Activity</th>\n",
              "      <th>Learning_Disabilities</th>\n",
              "      <th>Parental_Education_Level</th>\n",
              "      <th>Distance_from_Home</th>\n",
              "      <th>Gender</th>\n",
              "      <th>Exam_Score</th>\n",
              "    </tr>\n",
              "  </thead>\n",
              "  <tbody>\n",
              "    <tr>\n",
              "      <th>0</th>\n",
              "      <td>23</td>\n",
              "      <td>84</td>\n",
              "      <td>Low</td>\n",
              "      <td>High</td>\n",
              "      <td>No</td>\n",
              "      <td>7</td>\n",
              "      <td>73</td>\n",
              "      <td>Low</td>\n",
              "      <td>Yes</td>\n",
              "      <td>0</td>\n",
              "      <td>Low</td>\n",
              "      <td>Medium</td>\n",
              "      <td>Public</td>\n",
              "      <td>Positive</td>\n",
              "      <td>3</td>\n",
              "      <td>No</td>\n",
              "      <td>High School</td>\n",
              "      <td>Near</td>\n",
              "      <td>Male</td>\n",
              "      <td>67</td>\n",
              "    </tr>\n",
              "    <tr>\n",
              "      <th>1</th>\n",
              "      <td>19</td>\n",
              "      <td>64</td>\n",
              "      <td>Low</td>\n",
              "      <td>Medium</td>\n",
              "      <td>No</td>\n",
              "      <td>8</td>\n",
              "      <td>59</td>\n",
              "      <td>Low</td>\n",
              "      <td>Yes</td>\n",
              "      <td>2</td>\n",
              "      <td>Medium</td>\n",
              "      <td>Medium</td>\n",
              "      <td>Public</td>\n",
              "      <td>Negative</td>\n",
              "      <td>4</td>\n",
              "      <td>No</td>\n",
              "      <td>College</td>\n",
              "      <td>Moderate</td>\n",
              "      <td>Female</td>\n",
              "      <td>61</td>\n",
              "    </tr>\n",
              "    <tr>\n",
              "      <th>2</th>\n",
              "      <td>24</td>\n",
              "      <td>98</td>\n",
              "      <td>Medium</td>\n",
              "      <td>Medium</td>\n",
              "      <td>Yes</td>\n",
              "      <td>7</td>\n",
              "      <td>91</td>\n",
              "      <td>Medium</td>\n",
              "      <td>Yes</td>\n",
              "      <td>2</td>\n",
              "      <td>Medium</td>\n",
              "      <td>Medium</td>\n",
              "      <td>Public</td>\n",
              "      <td>Neutral</td>\n",
              "      <td>4</td>\n",
              "      <td>No</td>\n",
              "      <td>Postgraduate</td>\n",
              "      <td>Near</td>\n",
              "      <td>Male</td>\n",
              "      <td>74</td>\n",
              "    </tr>\n",
              "    <tr>\n",
              "      <th>3</th>\n",
              "      <td>29</td>\n",
              "      <td>89</td>\n",
              "      <td>Low</td>\n",
              "      <td>Medium</td>\n",
              "      <td>Yes</td>\n",
              "      <td>8</td>\n",
              "      <td>98</td>\n",
              "      <td>Medium</td>\n",
              "      <td>Yes</td>\n",
              "      <td>1</td>\n",
              "      <td>Medium</td>\n",
              "      <td>Medium</td>\n",
              "      <td>Public</td>\n",
              "      <td>Negative</td>\n",
              "      <td>4</td>\n",
              "      <td>No</td>\n",
              "      <td>High School</td>\n",
              "      <td>Moderate</td>\n",
              "      <td>Male</td>\n",
              "      <td>71</td>\n",
              "    </tr>\n",
              "    <tr>\n",
              "      <th>4</th>\n",
              "      <td>19</td>\n",
              "      <td>92</td>\n",
              "      <td>Medium</td>\n",
              "      <td>Medium</td>\n",
              "      <td>Yes</td>\n",
              "      <td>6</td>\n",
              "      <td>65</td>\n",
              "      <td>Medium</td>\n",
              "      <td>Yes</td>\n",
              "      <td>3</td>\n",
              "      <td>Medium</td>\n",
              "      <td>High</td>\n",
              "      <td>Public</td>\n",
              "      <td>Neutral</td>\n",
              "      <td>4</td>\n",
              "      <td>No</td>\n",
              "      <td>College</td>\n",
              "      <td>Near</td>\n",
              "      <td>Female</td>\n",
              "      <td>70</td>\n",
              "    </tr>\n",
              "  </tbody>\n",
              "</table>\n",
              "</div>\n",
              "    <div class=\"colab-df-buttons\">\n",
              "\n",
              "  <div class=\"colab-df-container\">\n",
              "    <button class=\"colab-df-convert\" onclick=\"convertToInteractive('df-649a3d56-68c3-4cf1-b840-e1aaf08824a5')\"\n",
              "            title=\"Convert this dataframe to an interactive table.\"\n",
              "            style=\"display:none;\">\n",
              "\n",
              "  <svg xmlns=\"http://www.w3.org/2000/svg\" height=\"24px\" viewBox=\"0 -960 960 960\">\n",
              "    <path d=\"M120-120v-720h720v720H120Zm60-500h600v-160H180v160Zm220 220h160v-160H400v160Zm0 220h160v-160H400v160ZM180-400h160v-160H180v160Zm440 0h160v-160H620v160ZM180-180h160v-160H180v160Zm440 0h160v-160H620v160Z\"/>\n",
              "  </svg>\n",
              "    </button>\n",
              "\n",
              "  <style>\n",
              "    .colab-df-container {\n",
              "      display:flex;\n",
              "      gap: 12px;\n",
              "    }\n",
              "\n",
              "    .colab-df-convert {\n",
              "      background-color: #E8F0FE;\n",
              "      border: none;\n",
              "      border-radius: 50%;\n",
              "      cursor: pointer;\n",
              "      display: none;\n",
              "      fill: #1967D2;\n",
              "      height: 32px;\n",
              "      padding: 0 0 0 0;\n",
              "      width: 32px;\n",
              "    }\n",
              "\n",
              "    .colab-df-convert:hover {\n",
              "      background-color: #E2EBFA;\n",
              "      box-shadow: 0px 1px 2px rgba(60, 64, 67, 0.3), 0px 1px 3px 1px rgba(60, 64, 67, 0.15);\n",
              "      fill: #174EA6;\n",
              "    }\n",
              "\n",
              "    .colab-df-buttons div {\n",
              "      margin-bottom: 4px;\n",
              "    }\n",
              "\n",
              "    [theme=dark] .colab-df-convert {\n",
              "      background-color: #3B4455;\n",
              "      fill: #D2E3FC;\n",
              "    }\n",
              "\n",
              "    [theme=dark] .colab-df-convert:hover {\n",
              "      background-color: #434B5C;\n",
              "      box-shadow: 0px 1px 3px 1px rgba(0, 0, 0, 0.15);\n",
              "      filter: drop-shadow(0px 1px 2px rgba(0, 0, 0, 0.3));\n",
              "      fill: #FFFFFF;\n",
              "    }\n",
              "  </style>\n",
              "\n",
              "    <script>\n",
              "      const buttonEl =\n",
              "        document.querySelector('#df-649a3d56-68c3-4cf1-b840-e1aaf08824a5 button.colab-df-convert');\n",
              "      buttonEl.style.display =\n",
              "        google.colab.kernel.accessAllowed ? 'block' : 'none';\n",
              "\n",
              "      async function convertToInteractive(key) {\n",
              "        const element = document.querySelector('#df-649a3d56-68c3-4cf1-b840-e1aaf08824a5');\n",
              "        const dataTable =\n",
              "          await google.colab.kernel.invokeFunction('convertToInteractive',\n",
              "                                                    [key], {});\n",
              "        if (!dataTable) return;\n",
              "\n",
              "        const docLinkHtml = 'Like what you see? Visit the ' +\n",
              "          '<a target=\"_blank\" href=https://colab.research.google.com/notebooks/data_table.ipynb>data table notebook</a>'\n",
              "          + ' to learn more about interactive tables.';\n",
              "        element.innerHTML = '';\n",
              "        dataTable['output_type'] = 'display_data';\n",
              "        await google.colab.output.renderOutput(dataTable, element);\n",
              "        const docLink = document.createElement('div');\n",
              "        docLink.innerHTML = docLinkHtml;\n",
              "        element.appendChild(docLink);\n",
              "      }\n",
              "    </script>\n",
              "  </div>\n",
              "\n",
              "\n",
              "    <div id=\"df-19d5a564-9561-4b4e-ac41-b494fe5f61bd\">\n",
              "      <button class=\"colab-df-quickchart\" onclick=\"quickchart('df-19d5a564-9561-4b4e-ac41-b494fe5f61bd')\"\n",
              "                title=\"Suggest charts\"\n",
              "                style=\"display:none;\">\n",
              "\n",
              "<svg xmlns=\"http://www.w3.org/2000/svg\" height=\"24px\"viewBox=\"0 0 24 24\"\n",
              "     width=\"24px\">\n",
              "    <g>\n",
              "        <path d=\"M19 3H5c-1.1 0-2 .9-2 2v14c0 1.1.9 2 2 2h14c1.1 0 2-.9 2-2V5c0-1.1-.9-2-2-2zM9 17H7v-7h2v7zm4 0h-2V7h2v10zm4 0h-2v-4h2v4z\"/>\n",
              "    </g>\n",
              "</svg>\n",
              "      </button>\n",
              "\n",
              "<style>\n",
              "  .colab-df-quickchart {\n",
              "      --bg-color: #E8F0FE;\n",
              "      --fill-color: #1967D2;\n",
              "      --hover-bg-color: #E2EBFA;\n",
              "      --hover-fill-color: #174EA6;\n",
              "      --disabled-fill-color: #AAA;\n",
              "      --disabled-bg-color: #DDD;\n",
              "  }\n",
              "\n",
              "  [theme=dark] .colab-df-quickchart {\n",
              "      --bg-color: #3B4455;\n",
              "      --fill-color: #D2E3FC;\n",
              "      --hover-bg-color: #434B5C;\n",
              "      --hover-fill-color: #FFFFFF;\n",
              "      --disabled-bg-color: #3B4455;\n",
              "      --disabled-fill-color: #666;\n",
              "  }\n",
              "\n",
              "  .colab-df-quickchart {\n",
              "    background-color: var(--bg-color);\n",
              "    border: none;\n",
              "    border-radius: 50%;\n",
              "    cursor: pointer;\n",
              "    display: none;\n",
              "    fill: var(--fill-color);\n",
              "    height: 32px;\n",
              "    padding: 0;\n",
              "    width: 32px;\n",
              "  }\n",
              "\n",
              "  .colab-df-quickchart:hover {\n",
              "    background-color: var(--hover-bg-color);\n",
              "    box-shadow: 0 1px 2px rgba(60, 64, 67, 0.3), 0 1px 3px 1px rgba(60, 64, 67, 0.15);\n",
              "    fill: var(--button-hover-fill-color);\n",
              "  }\n",
              "\n",
              "  .colab-df-quickchart-complete:disabled,\n",
              "  .colab-df-quickchart-complete:disabled:hover {\n",
              "    background-color: var(--disabled-bg-color);\n",
              "    fill: var(--disabled-fill-color);\n",
              "    box-shadow: none;\n",
              "  }\n",
              "\n",
              "  .colab-df-spinner {\n",
              "    border: 2px solid var(--fill-color);\n",
              "    border-color: transparent;\n",
              "    border-bottom-color: var(--fill-color);\n",
              "    animation:\n",
              "      spin 1s steps(1) infinite;\n",
              "  }\n",
              "\n",
              "  @keyframes spin {\n",
              "    0% {\n",
              "      border-color: transparent;\n",
              "      border-bottom-color: var(--fill-color);\n",
              "      border-left-color: var(--fill-color);\n",
              "    }\n",
              "    20% {\n",
              "      border-color: transparent;\n",
              "      border-left-color: var(--fill-color);\n",
              "      border-top-color: var(--fill-color);\n",
              "    }\n",
              "    30% {\n",
              "      border-color: transparent;\n",
              "      border-left-color: var(--fill-color);\n",
              "      border-top-color: var(--fill-color);\n",
              "      border-right-color: var(--fill-color);\n",
              "    }\n",
              "    40% {\n",
              "      border-color: transparent;\n",
              "      border-right-color: var(--fill-color);\n",
              "      border-top-color: var(--fill-color);\n",
              "    }\n",
              "    60% {\n",
              "      border-color: transparent;\n",
              "      border-right-color: var(--fill-color);\n",
              "    }\n",
              "    80% {\n",
              "      border-color: transparent;\n",
              "      border-right-color: var(--fill-color);\n",
              "      border-bottom-color: var(--fill-color);\n",
              "    }\n",
              "    90% {\n",
              "      border-color: transparent;\n",
              "      border-bottom-color: var(--fill-color);\n",
              "    }\n",
              "  }\n",
              "</style>\n",
              "\n",
              "      <script>\n",
              "        async function quickchart(key) {\n",
              "          const quickchartButtonEl =\n",
              "            document.querySelector('#' + key + ' button');\n",
              "          quickchartButtonEl.disabled = true;  // To prevent multiple clicks.\n",
              "          quickchartButtonEl.classList.add('colab-df-spinner');\n",
              "          try {\n",
              "            const charts = await google.colab.kernel.invokeFunction(\n",
              "                'suggestCharts', [key], {});\n",
              "          } catch (error) {\n",
              "            console.error('Error during call to suggestCharts:', error);\n",
              "          }\n",
              "          quickchartButtonEl.classList.remove('colab-df-spinner');\n",
              "          quickchartButtonEl.classList.add('colab-df-quickchart-complete');\n",
              "        }\n",
              "        (() => {\n",
              "          let quickchartButtonEl =\n",
              "            document.querySelector('#df-19d5a564-9561-4b4e-ac41-b494fe5f61bd button');\n",
              "          quickchartButtonEl.style.display =\n",
              "            google.colab.kernel.accessAllowed ? 'block' : 'none';\n",
              "        })();\n",
              "      </script>\n",
              "    </div>\n",
              "\n",
              "    </div>\n",
              "  </div>\n"
            ],
            "application/vnd.google.colaboratory.intrinsic+json": {
              "type": "dataframe",
              "variable_name": "df",
              "summary": "{\n  \"name\": \"df\",\n  \"rows\": 6607,\n  \"fields\": [\n    {\n      \"column\": \"Hours_Studied\",\n      \"properties\": {\n        \"dtype\": \"number\",\n        \"std\": 5,\n        \"min\": 1,\n        \"max\": 44,\n        \"num_unique_values\": 41,\n        \"samples\": [\n          27,\n          20,\n          10\n        ],\n        \"semantic_type\": \"\",\n        \"description\": \"\"\n      }\n    },\n    {\n      \"column\": \"Attendance\",\n      \"properties\": {\n        \"dtype\": \"number\",\n        \"std\": 11,\n        \"min\": 60,\n        \"max\": 100,\n        \"num_unique_values\": 41,\n        \"samples\": [\n          72,\n          60,\n          80\n        ],\n        \"semantic_type\": \"\",\n        \"description\": \"\"\n      }\n    },\n    {\n      \"column\": \"Parental_Involvement\",\n      \"properties\": {\n        \"dtype\": \"category\",\n        \"num_unique_values\": 3,\n        \"samples\": [\n          \"Low\",\n          \"Medium\",\n          \"High\"\n        ],\n        \"semantic_type\": \"\",\n        \"description\": \"\"\n      }\n    },\n    {\n      \"column\": \"Access_to_Resources\",\n      \"properties\": {\n        \"dtype\": \"category\",\n        \"num_unique_values\": 3,\n        \"samples\": [\n          \"High\",\n          \"Medium\",\n          \"Low\"\n        ],\n        \"semantic_type\": \"\",\n        \"description\": \"\"\n      }\n    },\n    {\n      \"column\": \"Extracurricular_Activities\",\n      \"properties\": {\n        \"dtype\": \"category\",\n        \"num_unique_values\": 2,\n        \"samples\": [\n          \"Yes\",\n          \"No\"\n        ],\n        \"semantic_type\": \"\",\n        \"description\": \"\"\n      }\n    },\n    {\n      \"column\": \"Sleep_Hours\",\n      \"properties\": {\n        \"dtype\": \"number\",\n        \"std\": 1,\n        \"min\": 4,\n        \"max\": 10,\n        \"num_unique_values\": 7,\n        \"samples\": [\n          7,\n          8\n        ],\n        \"semantic_type\": \"\",\n        \"description\": \"\"\n      }\n    },\n    {\n      \"column\": \"Previous_Scores\",\n      \"properties\": {\n        \"dtype\": \"number\",\n        \"std\": 14,\n        \"min\": 50,\n        \"max\": 100,\n        \"num_unique_values\": 51,\n        \"samples\": [\n          64,\n          62\n        ],\n        \"semantic_type\": \"\",\n        \"description\": \"\"\n      }\n    },\n    {\n      \"column\": \"Motivation_Level\",\n      \"properties\": {\n        \"dtype\": \"category\",\n        \"num_unique_values\": 3,\n        \"samples\": [\n          \"Low\",\n          \"Medium\"\n        ],\n        \"semantic_type\": \"\",\n        \"description\": \"\"\n      }\n    },\n    {\n      \"column\": \"Internet_Access\",\n      \"properties\": {\n        \"dtype\": \"category\",\n        \"num_unique_values\": 2,\n        \"samples\": [\n          \"No\",\n          \"Yes\"\n        ],\n        \"semantic_type\": \"\",\n        \"description\": \"\"\n      }\n    },\n    {\n      \"column\": \"Tutoring_Sessions\",\n      \"properties\": {\n        \"dtype\": \"number\",\n        \"std\": 1,\n        \"min\": 0,\n        \"max\": 8,\n        \"num_unique_values\": 9,\n        \"samples\": [\n          7,\n          2\n        ],\n        \"semantic_type\": \"\",\n        \"description\": \"\"\n      }\n    },\n    {\n      \"column\": \"Family_Income\",\n      \"properties\": {\n        \"dtype\": \"category\",\n        \"num_unique_values\": 3,\n        \"samples\": [\n          \"Low\",\n          \"Medium\"\n        ],\n        \"semantic_type\": \"\",\n        \"description\": \"\"\n      }\n    },\n    {\n      \"column\": \"Teacher_Quality\",\n      \"properties\": {\n        \"dtype\": \"category\",\n        \"num_unique_values\": 3,\n        \"samples\": [\n          \"Medium\",\n          \"High\"\n        ],\n        \"semantic_type\": \"\",\n        \"description\": \"\"\n      }\n    },\n    {\n      \"column\": \"School_Type\",\n      \"properties\": {\n        \"dtype\": \"category\",\n        \"num_unique_values\": 2,\n        \"samples\": [\n          \"Private\",\n          \"Public\"\n        ],\n        \"semantic_type\": \"\",\n        \"description\": \"\"\n      }\n    },\n    {\n      \"column\": \"Peer_Influence\",\n      \"properties\": {\n        \"dtype\": \"category\",\n        \"num_unique_values\": 3,\n        \"samples\": [\n          \"Positive\",\n          \"Negative\"\n        ],\n        \"semantic_type\": \"\",\n        \"description\": \"\"\n      }\n    },\n    {\n      \"column\": \"Physical_Activity\",\n      \"properties\": {\n        \"dtype\": \"number\",\n        \"std\": 1,\n        \"min\": 0,\n        \"max\": 6,\n        \"num_unique_values\": 7,\n        \"samples\": [\n          3,\n          4\n        ],\n        \"semantic_type\": \"\",\n        \"description\": \"\"\n      }\n    },\n    {\n      \"column\": \"Learning_Disabilities\",\n      \"properties\": {\n        \"dtype\": \"category\",\n        \"num_unique_values\": 2,\n        \"samples\": [\n          \"Yes\",\n          \"No\"\n        ],\n        \"semantic_type\": \"\",\n        \"description\": \"\"\n      }\n    },\n    {\n      \"column\": \"Parental_Education_Level\",\n      \"properties\": {\n        \"dtype\": \"category\",\n        \"num_unique_values\": 3,\n        \"samples\": [\n          \"High School\",\n          \"College\"\n        ],\n        \"semantic_type\": \"\",\n        \"description\": \"\"\n      }\n    },\n    {\n      \"column\": \"Distance_from_Home\",\n      \"properties\": {\n        \"dtype\": \"category\",\n        \"num_unique_values\": 3,\n        \"samples\": [\n          \"Near\",\n          \"Moderate\"\n        ],\n        \"semantic_type\": \"\",\n        \"description\": \"\"\n      }\n    },\n    {\n      \"column\": \"Gender\",\n      \"properties\": {\n        \"dtype\": \"category\",\n        \"num_unique_values\": 2,\n        \"samples\": [\n          \"Female\",\n          \"Male\"\n        ],\n        \"semantic_type\": \"\",\n        \"description\": \"\"\n      }\n    },\n    {\n      \"column\": \"Exam_Score\",\n      \"properties\": {\n        \"dtype\": \"number\",\n        \"std\": 3,\n        \"min\": 55,\n        \"max\": 101,\n        \"num_unique_values\": 45,\n        \"samples\": [\n          96,\n          84\n        ],\n        \"semantic_type\": \"\",\n        \"description\": \"\"\n      }\n    }\n  ]\n}"
            }
          },
          "metadata": {},
          "execution_count": 3
        }
      ]
    },
    {
      "cell_type": "markdown",
      "source": [
        "## **Etapa 3 - Análise da estrutura dos dados e tratamento inicial**\n",
        "\n"
      ],
      "metadata": {
        "id": "gE93gFWGezJC"
      }
    },
    {
      "cell_type": "markdown",
      "source": [
        "**Etapa 3.1 - Verificação da estrutura da base**\n",
        "\n",
        "Aqui será analisada a dimensão da base de dados (número de registros e variáveis), identificar os tipos de dados presentes\n",
        "(variáveis categóricas ou numéricas), e verificar se a base está pronta para análise ou necessita de ajustes."
      ],
      "metadata": {
        "id": "2dGFmtuXfNQX"
      }
    },
    {
      "cell_type": "code",
      "source": [
        "# Quantidade de registros e variáveis\n",
        "print(f'A base possui {df.shape[0]} registros e {df.shape[1]} variáveis.')\n",
        "\n",
        "# Tipos de variáveis\n",
        "print(\"\\nTipos de dados por coluna:\\n\")\n",
        "print(df.dtypes)"
      ],
      "metadata": {
        "id": "oVhYak5-gr0T",
        "outputId": "21504c40-58c4-4941-ddbc-eb059a9051a7",
        "colab": {
          "base_uri": "https://localhost:8080/"
        }
      },
      "execution_count": 4,
      "outputs": [
        {
          "output_type": "stream",
          "name": "stdout",
          "text": [
            "A base possui 6607 registros e 20 variáveis.\n",
            "\n",
            "Tipos de dados por coluna:\n",
            "\n",
            "Hours_Studied                  int64\n",
            "Attendance                     int64\n",
            "Parental_Involvement          object\n",
            "Access_to_Resources           object\n",
            "Extracurricular_Activities    object\n",
            "Sleep_Hours                    int64\n",
            "Previous_Scores                int64\n",
            "Motivation_Level              object\n",
            "Internet_Access               object\n",
            "Tutoring_Sessions              int64\n",
            "Family_Income                 object\n",
            "Teacher_Quality               object\n",
            "School_Type                   object\n",
            "Peer_Influence                object\n",
            "Physical_Activity              int64\n",
            "Learning_Disabilities         object\n",
            "Parental_Education_Level      object\n",
            "Distance_from_Home            object\n",
            "Gender                        object\n",
            "Exam_Score                     int64\n",
            "dtype: object\n"
          ]
        }
      ]
    },
    {
      "cell_type": "markdown",
      "source": [
        "**Etapa 3.2 - Análise de valores ausentes**\n",
        "\n",
        "Antes da modelagem, é preciso verificar a existência de valores nulos\n",
        "nas colunas, porque isso pode comprometer a qualidade das previsões e causar erros nos algoritmos."
      ],
      "metadata": {
        "id": "t8FZccRdkmAN"
      }
    },
    {
      "cell_type": "code",
      "source": [
        "# Verificando valores nulos por coluna\n",
        "print(\"\\nValores nulos por coluna:\\n\")\n",
        "print(df.isnull().sum().sort_values(ascending=False))"
      ],
      "metadata": {
        "colab": {
          "base_uri": "https://localhost:8080/"
        },
        "id": "EBze6S_9lc4y",
        "outputId": "4bad1f6d-0af8-42a6-98ff-8530c5256bbc"
      },
      "execution_count": 5,
      "outputs": [
        {
          "output_type": "stream",
          "name": "stdout",
          "text": [
            "\n",
            "Valores nulos por coluna:\n",
            "\n",
            "Parental_Education_Level      90\n",
            "Teacher_Quality               78\n",
            "Distance_from_Home            67\n",
            "Hours_Studied                  0\n",
            "Access_to_Resources            0\n",
            "Parental_Involvement           0\n",
            "Attendance                     0\n",
            "Extracurricular_Activities     0\n",
            "Motivation_Level               0\n",
            "Internet_Access                0\n",
            "Previous_Scores                0\n",
            "Sleep_Hours                    0\n",
            "Family_Income                  0\n",
            "Tutoring_Sessions              0\n",
            "School_Type                    0\n",
            "Peer_Influence                 0\n",
            "Learning_Disabilities          0\n",
            "Physical_Activity              0\n",
            "Gender                         0\n",
            "Exam_Score                     0\n",
            "dtype: int64\n"
          ]
        }
      ]
    },
    {
      "cell_type": "markdown",
      "source": [
        "**Etapa 3.3 - Remoção de dados nulos**\n",
        "\n",
        "Com a confirmação da existência de dados nulos, nesta etapa eles serão removidos para manter a simplicidade e clareza da análise."
      ],
      "metadata": {
        "id": "HAXno5ZyllBN"
      }
    },
    {
      "cell_type": "code",
      "source": [
        "# Removendo os registros com valores nulos\n",
        "df.dropna(inplace=True)"
      ],
      "metadata": {
        "id": "HKdqS0JSmFgg"
      },
      "execution_count": 6,
      "outputs": []
    },
    {
      "cell_type": "markdown",
      "source": [
        "**Etapa 3.4 - Identificação de variáveis categóricas e numéricas**\n",
        "\n",
        "Ao realizar a identificação e a classificação destas variáveis será possível decidir quais precisam ser codificadas quais precisam ser normalizadas antes de treinar modelos de machine learning."
      ],
      "metadata": {
        "id": "tJYlvkbfmLkJ"
      }
    },
    {
      "cell_type": "code",
      "source": [
        "# Selecionando as variáveis categóricas\n",
        "cat_cols = df.select_dtypes(include=['object']).columns\n",
        "print(\"\\nVariáveis categóricas:\\n\", cat_cols.tolist())\n",
        "\n",
        "# Selecionando as variáveis numéricas\n",
        "num_cols = df.select_dtypes(include=['int64', 'float64']).columns\n",
        "print(\"\\nVariáveis numéricas:\\n\", num_cols.tolist())\n"
      ],
      "metadata": {
        "colab": {
          "base_uri": "https://localhost:8080/"
        },
        "id": "eWO-ybz1mq6X",
        "outputId": "62eb08ec-c1fc-47bd-c9b2-51019d342509"
      },
      "execution_count": 7,
      "outputs": [
        {
          "output_type": "stream",
          "name": "stdout",
          "text": [
            "\n",
            "Variáveis categóricas:\n",
            " ['Parental_Involvement', 'Access_to_Resources', 'Extracurricular_Activities', 'Motivation_Level', 'Internet_Access', 'Family_Income', 'Teacher_Quality', 'School_Type', 'Peer_Influence', 'Learning_Disabilities', 'Parental_Education_Level', 'Distance_from_Home', 'Gender']\n",
            "\n",
            "Variáveis numéricas:\n",
            " ['Hours_Studied', 'Attendance', 'Sleep_Hours', 'Previous_Scores', 'Tutoring_Sessions', 'Physical_Activity', 'Exam_Score']\n"
          ]
        }
      ]
    },
    {
      "cell_type": "markdown",
      "source": [
        "##**Etapa 4 - Codificação das variáveis categóricas**\n",
        "\n",
        "Os algoritmos de machine learning do scikit-learn exigem que todas as variáveis estejam em formato numérico.\n",
        "Como algumas variáveis da base de dados são categóricas, precisamos codificá-las, usando o LabelEncoder. Essa técnica atribui um número inteiro diferente para cada categoria, permitindo o uso nos modelos."
      ],
      "metadata": {
        "id": "DBdHwQTYuRi8"
      }
    },
    {
      "cell_type": "code",
      "source": [
        "# Instanciação do codificador\n",
        "le = LabelEncoder()\n",
        "\n",
        "# Aplicando o LabelEncoder para as colunas categóricas\n",
        "for col in cat_cols:\n",
        "    df[col] = le.fit_transform(df[col])\n",
        "\n",
        "# Verificação do resultado\n",
        "df.head()\n"
      ],
      "metadata": {
        "colab": {
          "base_uri": "https://localhost:8080/",
          "height": 226
        },
        "id": "BCRwF9muvFFs",
        "outputId": "1b500e57-a691-4ce9-ae92-04512c141d3a"
      },
      "execution_count": 9,
      "outputs": [
        {
          "output_type": "execute_result",
          "data": {
            "text/plain": [
              "   Hours_Studied  Attendance  Parental_Involvement  Access_to_Resources  \\\n",
              "0             23          84                     1                    0   \n",
              "1             19          64                     1                    2   \n",
              "2             24          98                     2                    2   \n",
              "3             29          89                     1                    2   \n",
              "4             19          92                     2                    2   \n",
              "\n",
              "   Extracurricular_Activities  Sleep_Hours  Previous_Scores  Motivation_Level  \\\n",
              "0                           0            7               73                 1   \n",
              "1                           0            8               59                 1   \n",
              "2                           1            7               91                 2   \n",
              "3                           1            8               98                 2   \n",
              "4                           1            6               65                 2   \n",
              "\n",
              "   Internet_Access  Tutoring_Sessions  Family_Income  Teacher_Quality  \\\n",
              "0                1                  0              1                2   \n",
              "1                1                  2              2                2   \n",
              "2                1                  2              2                2   \n",
              "3                1                  1              2                2   \n",
              "4                1                  3              2                0   \n",
              "\n",
              "   School_Type  Peer_Influence  Physical_Activity  Learning_Disabilities  \\\n",
              "0            1               2                  3                      0   \n",
              "1            1               0                  4                      0   \n",
              "2            1               1                  4                      0   \n",
              "3            1               0                  4                      0   \n",
              "4            1               1                  4                      0   \n",
              "\n",
              "   Parental_Education_Level  Distance_from_Home  Gender  Exam_Score  \n",
              "0                         1                   2       1          67  \n",
              "1                         0                   1       0          61  \n",
              "2                         2                   2       1          74  \n",
              "3                         1                   1       1          71  \n",
              "4                         0                   2       0          70  "
            ],
            "text/html": [
              "\n",
              "  <div id=\"df-52b5a308-79c0-45cb-a91a-dba09329fcc5\" class=\"colab-df-container\">\n",
              "    <div>\n",
              "<style scoped>\n",
              "    .dataframe tbody tr th:only-of-type {\n",
              "        vertical-align: middle;\n",
              "    }\n",
              "\n",
              "    .dataframe tbody tr th {\n",
              "        vertical-align: top;\n",
              "    }\n",
              "\n",
              "    .dataframe thead th {\n",
              "        text-align: right;\n",
              "    }\n",
              "</style>\n",
              "<table border=\"1\" class=\"dataframe\">\n",
              "  <thead>\n",
              "    <tr style=\"text-align: right;\">\n",
              "      <th></th>\n",
              "      <th>Hours_Studied</th>\n",
              "      <th>Attendance</th>\n",
              "      <th>Parental_Involvement</th>\n",
              "      <th>Access_to_Resources</th>\n",
              "      <th>Extracurricular_Activities</th>\n",
              "      <th>Sleep_Hours</th>\n",
              "      <th>Previous_Scores</th>\n",
              "      <th>Motivation_Level</th>\n",
              "      <th>Internet_Access</th>\n",
              "      <th>Tutoring_Sessions</th>\n",
              "      <th>Family_Income</th>\n",
              "      <th>Teacher_Quality</th>\n",
              "      <th>School_Type</th>\n",
              "      <th>Peer_Influence</th>\n",
              "      <th>Physical_Activity</th>\n",
              "      <th>Learning_Disabilities</th>\n",
              "      <th>Parental_Education_Level</th>\n",
              "      <th>Distance_from_Home</th>\n",
              "      <th>Gender</th>\n",
              "      <th>Exam_Score</th>\n",
              "    </tr>\n",
              "  </thead>\n",
              "  <tbody>\n",
              "    <tr>\n",
              "      <th>0</th>\n",
              "      <td>23</td>\n",
              "      <td>84</td>\n",
              "      <td>1</td>\n",
              "      <td>0</td>\n",
              "      <td>0</td>\n",
              "      <td>7</td>\n",
              "      <td>73</td>\n",
              "      <td>1</td>\n",
              "      <td>1</td>\n",
              "      <td>0</td>\n",
              "      <td>1</td>\n",
              "      <td>2</td>\n",
              "      <td>1</td>\n",
              "      <td>2</td>\n",
              "      <td>3</td>\n",
              "      <td>0</td>\n",
              "      <td>1</td>\n",
              "      <td>2</td>\n",
              "      <td>1</td>\n",
              "      <td>67</td>\n",
              "    </tr>\n",
              "    <tr>\n",
              "      <th>1</th>\n",
              "      <td>19</td>\n",
              "      <td>64</td>\n",
              "      <td>1</td>\n",
              "      <td>2</td>\n",
              "      <td>0</td>\n",
              "      <td>8</td>\n",
              "      <td>59</td>\n",
              "      <td>1</td>\n",
              "      <td>1</td>\n",
              "      <td>2</td>\n",
              "      <td>2</td>\n",
              "      <td>2</td>\n",
              "      <td>1</td>\n",
              "      <td>0</td>\n",
              "      <td>4</td>\n",
              "      <td>0</td>\n",
              "      <td>0</td>\n",
              "      <td>1</td>\n",
              "      <td>0</td>\n",
              "      <td>61</td>\n",
              "    </tr>\n",
              "    <tr>\n",
              "      <th>2</th>\n",
              "      <td>24</td>\n",
              "      <td>98</td>\n",
              "      <td>2</td>\n",
              "      <td>2</td>\n",
              "      <td>1</td>\n",
              "      <td>7</td>\n",
              "      <td>91</td>\n",
              "      <td>2</td>\n",
              "      <td>1</td>\n",
              "      <td>2</td>\n",
              "      <td>2</td>\n",
              "      <td>2</td>\n",
              "      <td>1</td>\n",
              "      <td>1</td>\n",
              "      <td>4</td>\n",
              "      <td>0</td>\n",
              "      <td>2</td>\n",
              "      <td>2</td>\n",
              "      <td>1</td>\n",
              "      <td>74</td>\n",
              "    </tr>\n",
              "    <tr>\n",
              "      <th>3</th>\n",
              "      <td>29</td>\n",
              "      <td>89</td>\n",
              "      <td>1</td>\n",
              "      <td>2</td>\n",
              "      <td>1</td>\n",
              "      <td>8</td>\n",
              "      <td>98</td>\n",
              "      <td>2</td>\n",
              "      <td>1</td>\n",
              "      <td>1</td>\n",
              "      <td>2</td>\n",
              "      <td>2</td>\n",
              "      <td>1</td>\n",
              "      <td>0</td>\n",
              "      <td>4</td>\n",
              "      <td>0</td>\n",
              "      <td>1</td>\n",
              "      <td>1</td>\n",
              "      <td>1</td>\n",
              "      <td>71</td>\n",
              "    </tr>\n",
              "    <tr>\n",
              "      <th>4</th>\n",
              "      <td>19</td>\n",
              "      <td>92</td>\n",
              "      <td>2</td>\n",
              "      <td>2</td>\n",
              "      <td>1</td>\n",
              "      <td>6</td>\n",
              "      <td>65</td>\n",
              "      <td>2</td>\n",
              "      <td>1</td>\n",
              "      <td>3</td>\n",
              "      <td>2</td>\n",
              "      <td>0</td>\n",
              "      <td>1</td>\n",
              "      <td>1</td>\n",
              "      <td>4</td>\n",
              "      <td>0</td>\n",
              "      <td>0</td>\n",
              "      <td>2</td>\n",
              "      <td>0</td>\n",
              "      <td>70</td>\n",
              "    </tr>\n",
              "  </tbody>\n",
              "</table>\n",
              "</div>\n",
              "    <div class=\"colab-df-buttons\">\n",
              "\n",
              "  <div class=\"colab-df-container\">\n",
              "    <button class=\"colab-df-convert\" onclick=\"convertToInteractive('df-52b5a308-79c0-45cb-a91a-dba09329fcc5')\"\n",
              "            title=\"Convert this dataframe to an interactive table.\"\n",
              "            style=\"display:none;\">\n",
              "\n",
              "  <svg xmlns=\"http://www.w3.org/2000/svg\" height=\"24px\" viewBox=\"0 -960 960 960\">\n",
              "    <path d=\"M120-120v-720h720v720H120Zm60-500h600v-160H180v160Zm220 220h160v-160H400v160Zm0 220h160v-160H400v160ZM180-400h160v-160H180v160Zm440 0h160v-160H620v160ZM180-180h160v-160H180v160Zm440 0h160v-160H620v160Z\"/>\n",
              "  </svg>\n",
              "    </button>\n",
              "\n",
              "  <style>\n",
              "    .colab-df-container {\n",
              "      display:flex;\n",
              "      gap: 12px;\n",
              "    }\n",
              "\n",
              "    .colab-df-convert {\n",
              "      background-color: #E8F0FE;\n",
              "      border: none;\n",
              "      border-radius: 50%;\n",
              "      cursor: pointer;\n",
              "      display: none;\n",
              "      fill: #1967D2;\n",
              "      height: 32px;\n",
              "      padding: 0 0 0 0;\n",
              "      width: 32px;\n",
              "    }\n",
              "\n",
              "    .colab-df-convert:hover {\n",
              "      background-color: #E2EBFA;\n",
              "      box-shadow: 0px 1px 2px rgba(60, 64, 67, 0.3), 0px 1px 3px 1px rgba(60, 64, 67, 0.15);\n",
              "      fill: #174EA6;\n",
              "    }\n",
              "\n",
              "    .colab-df-buttons div {\n",
              "      margin-bottom: 4px;\n",
              "    }\n",
              "\n",
              "    [theme=dark] .colab-df-convert {\n",
              "      background-color: #3B4455;\n",
              "      fill: #D2E3FC;\n",
              "    }\n",
              "\n",
              "    [theme=dark] .colab-df-convert:hover {\n",
              "      background-color: #434B5C;\n",
              "      box-shadow: 0px 1px 3px 1px rgba(0, 0, 0, 0.15);\n",
              "      filter: drop-shadow(0px 1px 2px rgba(0, 0, 0, 0.3));\n",
              "      fill: #FFFFFF;\n",
              "    }\n",
              "  </style>\n",
              "\n",
              "    <script>\n",
              "      const buttonEl =\n",
              "        document.querySelector('#df-52b5a308-79c0-45cb-a91a-dba09329fcc5 button.colab-df-convert');\n",
              "      buttonEl.style.display =\n",
              "        google.colab.kernel.accessAllowed ? 'block' : 'none';\n",
              "\n",
              "      async function convertToInteractive(key) {\n",
              "        const element = document.querySelector('#df-52b5a308-79c0-45cb-a91a-dba09329fcc5');\n",
              "        const dataTable =\n",
              "          await google.colab.kernel.invokeFunction('convertToInteractive',\n",
              "                                                    [key], {});\n",
              "        if (!dataTable) return;\n",
              "\n",
              "        const docLinkHtml = 'Like what you see? Visit the ' +\n",
              "          '<a target=\"_blank\" href=https://colab.research.google.com/notebooks/data_table.ipynb>data table notebook</a>'\n",
              "          + ' to learn more about interactive tables.';\n",
              "        element.innerHTML = '';\n",
              "        dataTable['output_type'] = 'display_data';\n",
              "        await google.colab.output.renderOutput(dataTable, element);\n",
              "        const docLink = document.createElement('div');\n",
              "        docLink.innerHTML = docLinkHtml;\n",
              "        element.appendChild(docLink);\n",
              "      }\n",
              "    </script>\n",
              "  </div>\n",
              "\n",
              "\n",
              "    <div id=\"df-42bc992d-6863-4ddb-a64d-1d43d156e850\">\n",
              "      <button class=\"colab-df-quickchart\" onclick=\"quickchart('df-42bc992d-6863-4ddb-a64d-1d43d156e850')\"\n",
              "                title=\"Suggest charts\"\n",
              "                style=\"display:none;\">\n",
              "\n",
              "<svg xmlns=\"http://www.w3.org/2000/svg\" height=\"24px\"viewBox=\"0 0 24 24\"\n",
              "     width=\"24px\">\n",
              "    <g>\n",
              "        <path d=\"M19 3H5c-1.1 0-2 .9-2 2v14c0 1.1.9 2 2 2h14c1.1 0 2-.9 2-2V5c0-1.1-.9-2-2-2zM9 17H7v-7h2v7zm4 0h-2V7h2v10zm4 0h-2v-4h2v4z\"/>\n",
              "    </g>\n",
              "</svg>\n",
              "      </button>\n",
              "\n",
              "<style>\n",
              "  .colab-df-quickchart {\n",
              "      --bg-color: #E8F0FE;\n",
              "      --fill-color: #1967D2;\n",
              "      --hover-bg-color: #E2EBFA;\n",
              "      --hover-fill-color: #174EA6;\n",
              "      --disabled-fill-color: #AAA;\n",
              "      --disabled-bg-color: #DDD;\n",
              "  }\n",
              "\n",
              "  [theme=dark] .colab-df-quickchart {\n",
              "      --bg-color: #3B4455;\n",
              "      --fill-color: #D2E3FC;\n",
              "      --hover-bg-color: #434B5C;\n",
              "      --hover-fill-color: #FFFFFF;\n",
              "      --disabled-bg-color: #3B4455;\n",
              "      --disabled-fill-color: #666;\n",
              "  }\n",
              "\n",
              "  .colab-df-quickchart {\n",
              "    background-color: var(--bg-color);\n",
              "    border: none;\n",
              "    border-radius: 50%;\n",
              "    cursor: pointer;\n",
              "    display: none;\n",
              "    fill: var(--fill-color);\n",
              "    height: 32px;\n",
              "    padding: 0;\n",
              "    width: 32px;\n",
              "  }\n",
              "\n",
              "  .colab-df-quickchart:hover {\n",
              "    background-color: var(--hover-bg-color);\n",
              "    box-shadow: 0 1px 2px rgba(60, 64, 67, 0.3), 0 1px 3px 1px rgba(60, 64, 67, 0.15);\n",
              "    fill: var(--button-hover-fill-color);\n",
              "  }\n",
              "\n",
              "  .colab-df-quickchart-complete:disabled,\n",
              "  .colab-df-quickchart-complete:disabled:hover {\n",
              "    background-color: var(--disabled-bg-color);\n",
              "    fill: var(--disabled-fill-color);\n",
              "    box-shadow: none;\n",
              "  }\n",
              "\n",
              "  .colab-df-spinner {\n",
              "    border: 2px solid var(--fill-color);\n",
              "    border-color: transparent;\n",
              "    border-bottom-color: var(--fill-color);\n",
              "    animation:\n",
              "      spin 1s steps(1) infinite;\n",
              "  }\n",
              "\n",
              "  @keyframes spin {\n",
              "    0% {\n",
              "      border-color: transparent;\n",
              "      border-bottom-color: var(--fill-color);\n",
              "      border-left-color: var(--fill-color);\n",
              "    }\n",
              "    20% {\n",
              "      border-color: transparent;\n",
              "      border-left-color: var(--fill-color);\n",
              "      border-top-color: var(--fill-color);\n",
              "    }\n",
              "    30% {\n",
              "      border-color: transparent;\n",
              "      border-left-color: var(--fill-color);\n",
              "      border-top-color: var(--fill-color);\n",
              "      border-right-color: var(--fill-color);\n",
              "    }\n",
              "    40% {\n",
              "      border-color: transparent;\n",
              "      border-right-color: var(--fill-color);\n",
              "      border-top-color: var(--fill-color);\n",
              "    }\n",
              "    60% {\n",
              "      border-color: transparent;\n",
              "      border-right-color: var(--fill-color);\n",
              "    }\n",
              "    80% {\n",
              "      border-color: transparent;\n",
              "      border-right-color: var(--fill-color);\n",
              "      border-bottom-color: var(--fill-color);\n",
              "    }\n",
              "    90% {\n",
              "      border-color: transparent;\n",
              "      border-bottom-color: var(--fill-color);\n",
              "    }\n",
              "  }\n",
              "</style>\n",
              "\n",
              "      <script>\n",
              "        async function quickchart(key) {\n",
              "          const quickchartButtonEl =\n",
              "            document.querySelector('#' + key + ' button');\n",
              "          quickchartButtonEl.disabled = true;  // To prevent multiple clicks.\n",
              "          quickchartButtonEl.classList.add('colab-df-spinner');\n",
              "          try {\n",
              "            const charts = await google.colab.kernel.invokeFunction(\n",
              "                'suggestCharts', [key], {});\n",
              "          } catch (error) {\n",
              "            console.error('Error during call to suggestCharts:', error);\n",
              "          }\n",
              "          quickchartButtonEl.classList.remove('colab-df-spinner');\n",
              "          quickchartButtonEl.classList.add('colab-df-quickchart-complete');\n",
              "        }\n",
              "        (() => {\n",
              "          let quickchartButtonEl =\n",
              "            document.querySelector('#df-42bc992d-6863-4ddb-a64d-1d43d156e850 button');\n",
              "          quickchartButtonEl.style.display =\n",
              "            google.colab.kernel.accessAllowed ? 'block' : 'none';\n",
              "        })();\n",
              "      </script>\n",
              "    </div>\n",
              "\n",
              "    </div>\n",
              "  </div>\n"
            ],
            "application/vnd.google.colaboratory.intrinsic+json": {
              "type": "dataframe",
              "variable_name": "df",
              "summary": "{\n  \"name\": \"df\",\n  \"rows\": 6378,\n  \"fields\": [\n    {\n      \"column\": \"Hours_Studied\",\n      \"properties\": {\n        \"dtype\": \"number\",\n        \"std\": 5,\n        \"min\": 1,\n        \"max\": 44,\n        \"num_unique_values\": 41,\n        \"samples\": [\n          27,\n          20,\n          10\n        ],\n        \"semantic_type\": \"\",\n        \"description\": \"\"\n      }\n    },\n    {\n      \"column\": \"Attendance\",\n      \"properties\": {\n        \"dtype\": \"number\",\n        \"std\": 11,\n        \"min\": 60,\n        \"max\": 100,\n        \"num_unique_values\": 41,\n        \"samples\": [\n          72,\n          60,\n          80\n        ],\n        \"semantic_type\": \"\",\n        \"description\": \"\"\n      }\n    },\n    {\n      \"column\": \"Parental_Involvement\",\n      \"properties\": {\n        \"dtype\": \"number\",\n        \"std\": 0,\n        \"min\": 0,\n        \"max\": 2,\n        \"num_unique_values\": 3,\n        \"samples\": [\n          1,\n          2,\n          0\n        ],\n        \"semantic_type\": \"\",\n        \"description\": \"\"\n      }\n    },\n    {\n      \"column\": \"Access_to_Resources\",\n      \"properties\": {\n        \"dtype\": \"number\",\n        \"std\": 0,\n        \"min\": 0,\n        \"max\": 2,\n        \"num_unique_values\": 3,\n        \"samples\": [\n          0,\n          2,\n          1\n        ],\n        \"semantic_type\": \"\",\n        \"description\": \"\"\n      }\n    },\n    {\n      \"column\": \"Extracurricular_Activities\",\n      \"properties\": {\n        \"dtype\": \"number\",\n        \"std\": 0,\n        \"min\": 0,\n        \"max\": 1,\n        \"num_unique_values\": 2,\n        \"samples\": [\n          1,\n          0\n        ],\n        \"semantic_type\": \"\",\n        \"description\": \"\"\n      }\n    },\n    {\n      \"column\": \"Sleep_Hours\",\n      \"properties\": {\n        \"dtype\": \"number\",\n        \"std\": 1,\n        \"min\": 4,\n        \"max\": 10,\n        \"num_unique_values\": 7,\n        \"samples\": [\n          7,\n          8\n        ],\n        \"semantic_type\": \"\",\n        \"description\": \"\"\n      }\n    },\n    {\n      \"column\": \"Previous_Scores\",\n      \"properties\": {\n        \"dtype\": \"number\",\n        \"std\": 14,\n        \"min\": 50,\n        \"max\": 100,\n        \"num_unique_values\": 51,\n        \"samples\": [\n          64,\n          62\n        ],\n        \"semantic_type\": \"\",\n        \"description\": \"\"\n      }\n    },\n    {\n      \"column\": \"Motivation_Level\",\n      \"properties\": {\n        \"dtype\": \"number\",\n        \"std\": 0,\n        \"min\": 0,\n        \"max\": 2,\n        \"num_unique_values\": 3,\n        \"samples\": [\n          1,\n          2\n        ],\n        \"semantic_type\": \"\",\n        \"description\": \"\"\n      }\n    },\n    {\n      \"column\": \"Internet_Access\",\n      \"properties\": {\n        \"dtype\": \"number\",\n        \"std\": 0,\n        \"min\": 0,\n        \"max\": 1,\n        \"num_unique_values\": 2,\n        \"samples\": [\n          0,\n          1\n        ],\n        \"semantic_type\": \"\",\n        \"description\": \"\"\n      }\n    },\n    {\n      \"column\": \"Tutoring_Sessions\",\n      \"properties\": {\n        \"dtype\": \"number\",\n        \"std\": 1,\n        \"min\": 0,\n        \"max\": 8,\n        \"num_unique_values\": 9,\n        \"samples\": [\n          7,\n          2\n        ],\n        \"semantic_type\": \"\",\n        \"description\": \"\"\n      }\n    },\n    {\n      \"column\": \"Family_Income\",\n      \"properties\": {\n        \"dtype\": \"number\",\n        \"std\": 0,\n        \"min\": 0,\n        \"max\": 2,\n        \"num_unique_values\": 3,\n        \"samples\": [\n          1,\n          2\n        ],\n        \"semantic_type\": \"\",\n        \"description\": \"\"\n      }\n    },\n    {\n      \"column\": \"Teacher_Quality\",\n      \"properties\": {\n        \"dtype\": \"number\",\n        \"std\": 0,\n        \"min\": 0,\n        \"max\": 2,\n        \"num_unique_values\": 3,\n        \"samples\": [\n          2,\n          0\n        ],\n        \"semantic_type\": \"\",\n        \"description\": \"\"\n      }\n    },\n    {\n      \"column\": \"School_Type\",\n      \"properties\": {\n        \"dtype\": \"number\",\n        \"std\": 0,\n        \"min\": 0,\n        \"max\": 1,\n        \"num_unique_values\": 2,\n        \"samples\": [\n          0,\n          1\n        ],\n        \"semantic_type\": \"\",\n        \"description\": \"\"\n      }\n    },\n    {\n      \"column\": \"Peer_Influence\",\n      \"properties\": {\n        \"dtype\": \"number\",\n        \"std\": 0,\n        \"min\": 0,\n        \"max\": 2,\n        \"num_unique_values\": 3,\n        \"samples\": [\n          2,\n          0\n        ],\n        \"semantic_type\": \"\",\n        \"description\": \"\"\n      }\n    },\n    {\n      \"column\": \"Physical_Activity\",\n      \"properties\": {\n        \"dtype\": \"number\",\n        \"std\": 1,\n        \"min\": 0,\n        \"max\": 6,\n        \"num_unique_values\": 7,\n        \"samples\": [\n          3,\n          4\n        ],\n        \"semantic_type\": \"\",\n        \"description\": \"\"\n      }\n    },\n    {\n      \"column\": \"Learning_Disabilities\",\n      \"properties\": {\n        \"dtype\": \"number\",\n        \"std\": 0,\n        \"min\": 0,\n        \"max\": 1,\n        \"num_unique_values\": 2,\n        \"samples\": [\n          1,\n          0\n        ],\n        \"semantic_type\": \"\",\n        \"description\": \"\"\n      }\n    },\n    {\n      \"column\": \"Parental_Education_Level\",\n      \"properties\": {\n        \"dtype\": \"number\",\n        \"std\": 0,\n        \"min\": 0,\n        \"max\": 2,\n        \"num_unique_values\": 3,\n        \"samples\": [\n          1,\n          0\n        ],\n        \"semantic_type\": \"\",\n        \"description\": \"\"\n      }\n    },\n    {\n      \"column\": \"Distance_from_Home\",\n      \"properties\": {\n        \"dtype\": \"number\",\n        \"std\": 0,\n        \"min\": 0,\n        \"max\": 2,\n        \"num_unique_values\": 3,\n        \"samples\": [\n          2,\n          1\n        ],\n        \"semantic_type\": \"\",\n        \"description\": \"\"\n      }\n    },\n    {\n      \"column\": \"Gender\",\n      \"properties\": {\n        \"dtype\": \"number\",\n        \"std\": 0,\n        \"min\": 0,\n        \"max\": 1,\n        \"num_unique_values\": 2,\n        \"samples\": [\n          0,\n          1\n        ],\n        \"semantic_type\": \"\",\n        \"description\": \"\"\n      }\n    },\n    {\n      \"column\": \"Exam_Score\",\n      \"properties\": {\n        \"dtype\": \"number\",\n        \"std\": 3,\n        \"min\": 55,\n        \"max\": 101,\n        \"num_unique_values\": 45,\n        \"samples\": [\n          96,\n          84\n        ],\n        \"semantic_type\": \"\",\n        \"description\": \"\"\n      }\n    }\n  ]\n}"
            }
          },
          "metadata": {},
          "execution_count": 9
        }
      ]
    },
    {
      "cell_type": "markdown",
      "source": [
        "##**Etapa 5 - Normalização das variáveis numéricas**\n",
        "\n",
        "A normalização garante que todas as variáveis numéricas estejam na mesma escala. É importante para algoritmos baseados em KNN e SVM e ajuda na convergência mais rápida de outros modelos. Será usado o StandardScaler, que transforma os dados para uma distribuição com média 0 e desvio padrão 1."
      ],
      "metadata": {
        "id": "jnasp8s1zPoL"
      }
    },
    {
      "cell_type": "code",
      "source": [
        "# Removendo a variável alvo\n",
        "num_cols_to_scale = num_cols.drop('Exam_Score')\n",
        "\n",
        "# Instanciando o normalizador\n",
        "scaler = StandardScaler()\n",
        "\n",
        "# Aplicação da normalização nos dados numéricos\n",
        "df[num_cols_to_scale] = scaler.fit_transform(df[num_cols_to_scale])\n",
        "\n",
        "# Visualização do resultado\n",
        "df[num_cols_to_scale].describe().T"
      ],
      "metadata": {
        "colab": {
          "base_uri": "https://localhost:8080/",
          "height": 361
        },
        "id": "y4ZjEWgM0AEH",
        "outputId": "c8f610a7-a13a-4135-d68f-7b61b1907fbf"
      },
      "execution_count": 10,
      "outputs": [
        {
          "output_type": "execute_result",
          "data": {
            "text/plain": [
              "                    count          mean       std       min       25%  \\\n",
              "Hours_Studied      6378.0 -1.693360e-16  1.000078 -3.170784 -0.664514   \n",
              "Attendance         6378.0  5.458858e-16  1.000078 -1.733435 -0.867620   \n",
              "Sleep_Hours        6378.0 -1.030499e-16  1.000078 -2.067530 -0.705056   \n",
              "Previous_Scores    6378.0  4.634459e-16  1.000078 -1.740795 -0.837971   \n",
              "Tutoring_Sessions  6378.0  1.002647e-17  1.000078 -1.211858 -0.401411   \n",
              "Physical_Activity  6378.0  8.021179e-17  1.000078 -2.889375 -0.945447   \n",
              "\n",
              "                        50%       75%       max  \n",
              "Hours_Studied      0.003825  0.672163  4.013856  \n",
              "Attendance        -0.001805  0.864009  1.729824  \n",
              "Sleep_Hours       -0.023819  0.657418  2.019892  \n",
              "Previous_Scores   -0.004595  0.898229  1.731605  \n",
              "Tutoring_Sessions -0.401411  0.409036  5.271718  \n",
              "Physical_Activity  0.026516  0.998480  2.942408  "
            ],
            "text/html": [
              "\n",
              "  <div id=\"df-31f86b94-d30b-4465-84c5-0415b4b31540\" class=\"colab-df-container\">\n",
              "    <div>\n",
              "<style scoped>\n",
              "    .dataframe tbody tr th:only-of-type {\n",
              "        vertical-align: middle;\n",
              "    }\n",
              "\n",
              "    .dataframe tbody tr th {\n",
              "        vertical-align: top;\n",
              "    }\n",
              "\n",
              "    .dataframe thead th {\n",
              "        text-align: right;\n",
              "    }\n",
              "</style>\n",
              "<table border=\"1\" class=\"dataframe\">\n",
              "  <thead>\n",
              "    <tr style=\"text-align: right;\">\n",
              "      <th></th>\n",
              "      <th>count</th>\n",
              "      <th>mean</th>\n",
              "      <th>std</th>\n",
              "      <th>min</th>\n",
              "      <th>25%</th>\n",
              "      <th>50%</th>\n",
              "      <th>75%</th>\n",
              "      <th>max</th>\n",
              "    </tr>\n",
              "  </thead>\n",
              "  <tbody>\n",
              "    <tr>\n",
              "      <th>Hours_Studied</th>\n",
              "      <td>6378.0</td>\n",
              "      <td>-1.693360e-16</td>\n",
              "      <td>1.000078</td>\n",
              "      <td>-3.170784</td>\n",
              "      <td>-0.664514</td>\n",
              "      <td>0.003825</td>\n",
              "      <td>0.672163</td>\n",
              "      <td>4.013856</td>\n",
              "    </tr>\n",
              "    <tr>\n",
              "      <th>Attendance</th>\n",
              "      <td>6378.0</td>\n",
              "      <td>5.458858e-16</td>\n",
              "      <td>1.000078</td>\n",
              "      <td>-1.733435</td>\n",
              "      <td>-0.867620</td>\n",
              "      <td>-0.001805</td>\n",
              "      <td>0.864009</td>\n",
              "      <td>1.729824</td>\n",
              "    </tr>\n",
              "    <tr>\n",
              "      <th>Sleep_Hours</th>\n",
              "      <td>6378.0</td>\n",
              "      <td>-1.030499e-16</td>\n",
              "      <td>1.000078</td>\n",
              "      <td>-2.067530</td>\n",
              "      <td>-0.705056</td>\n",
              "      <td>-0.023819</td>\n",
              "      <td>0.657418</td>\n",
              "      <td>2.019892</td>\n",
              "    </tr>\n",
              "    <tr>\n",
              "      <th>Previous_Scores</th>\n",
              "      <td>6378.0</td>\n",
              "      <td>4.634459e-16</td>\n",
              "      <td>1.000078</td>\n",
              "      <td>-1.740795</td>\n",
              "      <td>-0.837971</td>\n",
              "      <td>-0.004595</td>\n",
              "      <td>0.898229</td>\n",
              "      <td>1.731605</td>\n",
              "    </tr>\n",
              "    <tr>\n",
              "      <th>Tutoring_Sessions</th>\n",
              "      <td>6378.0</td>\n",
              "      <td>1.002647e-17</td>\n",
              "      <td>1.000078</td>\n",
              "      <td>-1.211858</td>\n",
              "      <td>-0.401411</td>\n",
              "      <td>-0.401411</td>\n",
              "      <td>0.409036</td>\n",
              "      <td>5.271718</td>\n",
              "    </tr>\n",
              "    <tr>\n",
              "      <th>Physical_Activity</th>\n",
              "      <td>6378.0</td>\n",
              "      <td>8.021179e-17</td>\n",
              "      <td>1.000078</td>\n",
              "      <td>-2.889375</td>\n",
              "      <td>-0.945447</td>\n",
              "      <td>0.026516</td>\n",
              "      <td>0.998480</td>\n",
              "      <td>2.942408</td>\n",
              "    </tr>\n",
              "  </tbody>\n",
              "</table>\n",
              "</div>\n",
              "    <div class=\"colab-df-buttons\">\n",
              "\n",
              "  <div class=\"colab-df-container\">\n",
              "    <button class=\"colab-df-convert\" onclick=\"convertToInteractive('df-31f86b94-d30b-4465-84c5-0415b4b31540')\"\n",
              "            title=\"Convert this dataframe to an interactive table.\"\n",
              "            style=\"display:none;\">\n",
              "\n",
              "  <svg xmlns=\"http://www.w3.org/2000/svg\" height=\"24px\" viewBox=\"0 -960 960 960\">\n",
              "    <path d=\"M120-120v-720h720v720H120Zm60-500h600v-160H180v160Zm220 220h160v-160H400v160Zm0 220h160v-160H400v160ZM180-400h160v-160H180v160Zm440 0h160v-160H620v160ZM180-180h160v-160H180v160Zm440 0h160v-160H620v160Z\"/>\n",
              "  </svg>\n",
              "    </button>\n",
              "\n",
              "  <style>\n",
              "    .colab-df-container {\n",
              "      display:flex;\n",
              "      gap: 12px;\n",
              "    }\n",
              "\n",
              "    .colab-df-convert {\n",
              "      background-color: #E8F0FE;\n",
              "      border: none;\n",
              "      border-radius: 50%;\n",
              "      cursor: pointer;\n",
              "      display: none;\n",
              "      fill: #1967D2;\n",
              "      height: 32px;\n",
              "      padding: 0 0 0 0;\n",
              "      width: 32px;\n",
              "    }\n",
              "\n",
              "    .colab-df-convert:hover {\n",
              "      background-color: #E2EBFA;\n",
              "      box-shadow: 0px 1px 2px rgba(60, 64, 67, 0.3), 0px 1px 3px 1px rgba(60, 64, 67, 0.15);\n",
              "      fill: #174EA6;\n",
              "    }\n",
              "\n",
              "    .colab-df-buttons div {\n",
              "      margin-bottom: 4px;\n",
              "    }\n",
              "\n",
              "    [theme=dark] .colab-df-convert {\n",
              "      background-color: #3B4455;\n",
              "      fill: #D2E3FC;\n",
              "    }\n",
              "\n",
              "    [theme=dark] .colab-df-convert:hover {\n",
              "      background-color: #434B5C;\n",
              "      box-shadow: 0px 1px 3px 1px rgba(0, 0, 0, 0.15);\n",
              "      filter: drop-shadow(0px 1px 2px rgba(0, 0, 0, 0.3));\n",
              "      fill: #FFFFFF;\n",
              "    }\n",
              "  </style>\n",
              "\n",
              "    <script>\n",
              "      const buttonEl =\n",
              "        document.querySelector('#df-31f86b94-d30b-4465-84c5-0415b4b31540 button.colab-df-convert');\n",
              "      buttonEl.style.display =\n",
              "        google.colab.kernel.accessAllowed ? 'block' : 'none';\n",
              "\n",
              "      async function convertToInteractive(key) {\n",
              "        const element = document.querySelector('#df-31f86b94-d30b-4465-84c5-0415b4b31540');\n",
              "        const dataTable =\n",
              "          await google.colab.kernel.invokeFunction('convertToInteractive',\n",
              "                                                    [key], {});\n",
              "        if (!dataTable) return;\n",
              "\n",
              "        const docLinkHtml = 'Like what you see? Visit the ' +\n",
              "          '<a target=\"_blank\" href=https://colab.research.google.com/notebooks/data_table.ipynb>data table notebook</a>'\n",
              "          + ' to learn more about interactive tables.';\n",
              "        element.innerHTML = '';\n",
              "        dataTable['output_type'] = 'display_data';\n",
              "        await google.colab.output.renderOutput(dataTable, element);\n",
              "        const docLink = document.createElement('div');\n",
              "        docLink.innerHTML = docLinkHtml;\n",
              "        element.appendChild(docLink);\n",
              "      }\n",
              "    </script>\n",
              "  </div>\n",
              "\n",
              "\n",
              "    <div id=\"df-ff298935-8d5e-4a83-a8cf-28ed60606e47\">\n",
              "      <button class=\"colab-df-quickchart\" onclick=\"quickchart('df-ff298935-8d5e-4a83-a8cf-28ed60606e47')\"\n",
              "                title=\"Suggest charts\"\n",
              "                style=\"display:none;\">\n",
              "\n",
              "<svg xmlns=\"http://www.w3.org/2000/svg\" height=\"24px\"viewBox=\"0 0 24 24\"\n",
              "     width=\"24px\">\n",
              "    <g>\n",
              "        <path d=\"M19 3H5c-1.1 0-2 .9-2 2v14c0 1.1.9 2 2 2h14c1.1 0 2-.9 2-2V5c0-1.1-.9-2-2-2zM9 17H7v-7h2v7zm4 0h-2V7h2v10zm4 0h-2v-4h2v4z\"/>\n",
              "    </g>\n",
              "</svg>\n",
              "      </button>\n",
              "\n",
              "<style>\n",
              "  .colab-df-quickchart {\n",
              "      --bg-color: #E8F0FE;\n",
              "      --fill-color: #1967D2;\n",
              "      --hover-bg-color: #E2EBFA;\n",
              "      --hover-fill-color: #174EA6;\n",
              "      --disabled-fill-color: #AAA;\n",
              "      --disabled-bg-color: #DDD;\n",
              "  }\n",
              "\n",
              "  [theme=dark] .colab-df-quickchart {\n",
              "      --bg-color: #3B4455;\n",
              "      --fill-color: #D2E3FC;\n",
              "      --hover-bg-color: #434B5C;\n",
              "      --hover-fill-color: #FFFFFF;\n",
              "      --disabled-bg-color: #3B4455;\n",
              "      --disabled-fill-color: #666;\n",
              "  }\n",
              "\n",
              "  .colab-df-quickchart {\n",
              "    background-color: var(--bg-color);\n",
              "    border: none;\n",
              "    border-radius: 50%;\n",
              "    cursor: pointer;\n",
              "    display: none;\n",
              "    fill: var(--fill-color);\n",
              "    height: 32px;\n",
              "    padding: 0;\n",
              "    width: 32px;\n",
              "  }\n",
              "\n",
              "  .colab-df-quickchart:hover {\n",
              "    background-color: var(--hover-bg-color);\n",
              "    box-shadow: 0 1px 2px rgba(60, 64, 67, 0.3), 0 1px 3px 1px rgba(60, 64, 67, 0.15);\n",
              "    fill: var(--button-hover-fill-color);\n",
              "  }\n",
              "\n",
              "  .colab-df-quickchart-complete:disabled,\n",
              "  .colab-df-quickchart-complete:disabled:hover {\n",
              "    background-color: var(--disabled-bg-color);\n",
              "    fill: var(--disabled-fill-color);\n",
              "    box-shadow: none;\n",
              "  }\n",
              "\n",
              "  .colab-df-spinner {\n",
              "    border: 2px solid var(--fill-color);\n",
              "    border-color: transparent;\n",
              "    border-bottom-color: var(--fill-color);\n",
              "    animation:\n",
              "      spin 1s steps(1) infinite;\n",
              "  }\n",
              "\n",
              "  @keyframes spin {\n",
              "    0% {\n",
              "      border-color: transparent;\n",
              "      border-bottom-color: var(--fill-color);\n",
              "      border-left-color: var(--fill-color);\n",
              "    }\n",
              "    20% {\n",
              "      border-color: transparent;\n",
              "      border-left-color: var(--fill-color);\n",
              "      border-top-color: var(--fill-color);\n",
              "    }\n",
              "    30% {\n",
              "      border-color: transparent;\n",
              "      border-left-color: var(--fill-color);\n",
              "      border-top-color: var(--fill-color);\n",
              "      border-right-color: var(--fill-color);\n",
              "    }\n",
              "    40% {\n",
              "      border-color: transparent;\n",
              "      border-right-color: var(--fill-color);\n",
              "      border-top-color: var(--fill-color);\n",
              "    }\n",
              "    60% {\n",
              "      border-color: transparent;\n",
              "      border-right-color: var(--fill-color);\n",
              "    }\n",
              "    80% {\n",
              "      border-color: transparent;\n",
              "      border-right-color: var(--fill-color);\n",
              "      border-bottom-color: var(--fill-color);\n",
              "    }\n",
              "    90% {\n",
              "      border-color: transparent;\n",
              "      border-bottom-color: var(--fill-color);\n",
              "    }\n",
              "  }\n",
              "</style>\n",
              "\n",
              "      <script>\n",
              "        async function quickchart(key) {\n",
              "          const quickchartButtonEl =\n",
              "            document.querySelector('#' + key + ' button');\n",
              "          quickchartButtonEl.disabled = true;  // To prevent multiple clicks.\n",
              "          quickchartButtonEl.classList.add('colab-df-spinner');\n",
              "          try {\n",
              "            const charts = await google.colab.kernel.invokeFunction(\n",
              "                'suggestCharts', [key], {});\n",
              "          } catch (error) {\n",
              "            console.error('Error during call to suggestCharts:', error);\n",
              "          }\n",
              "          quickchartButtonEl.classList.remove('colab-df-spinner');\n",
              "          quickchartButtonEl.classList.add('colab-df-quickchart-complete');\n",
              "        }\n",
              "        (() => {\n",
              "          let quickchartButtonEl =\n",
              "            document.querySelector('#df-ff298935-8d5e-4a83-a8cf-28ed60606e47 button');\n",
              "          quickchartButtonEl.style.display =\n",
              "            google.colab.kernel.accessAllowed ? 'block' : 'none';\n",
              "        })();\n",
              "      </script>\n",
              "    </div>\n",
              "\n",
              "    </div>\n",
              "  </div>\n"
            ],
            "application/vnd.google.colaboratory.intrinsic+json": {
              "type": "dataframe",
              "summary": "{\n  \"name\": \"df[num_cols_to_scale]\",\n  \"rows\": 6,\n  \"fields\": [\n    {\n      \"column\": \"count\",\n      \"properties\": {\n        \"dtype\": \"number\",\n        \"std\": 0.0,\n        \"min\": 6378.0,\n        \"max\": 6378.0,\n        \"num_unique_values\": 1,\n        \"samples\": [\n          6378.0\n        ],\n        \"semantic_type\": \"\",\n        \"description\": \"\"\n      }\n    },\n    {\n      \"column\": \"mean\",\n      \"properties\": {\n        \"dtype\": \"number\",\n        \"std\": 2.9818210962655385e-16,\n        \"min\": -1.693359922162672e-16,\n        \"max\": 5.458857643813878e-16,\n        \"num_unique_values\": 6,\n        \"samples\": [\n          -1.693359922162672e-16\n        ],\n        \"semantic_type\": \"\",\n        \"description\": \"\"\n      }\n    },\n    {\n      \"column\": \"std\",\n      \"properties\": {\n        \"dtype\": \"number\",\n        \"std\": 1.2418230397661036e-14,\n        \"min\": 1.000078403700765,\n        \"max\": 1.0000784037007993,\n        \"num_unique_values\": 6,\n        \"samples\": [\n          1.000078403700767\n        ],\n        \"semantic_type\": \"\",\n        \"description\": \"\"\n      }\n    },\n    {\n      \"column\": \"min\",\n      \"properties\": {\n        \"dtype\": \"number\",\n        \"std\": 0.7503760539219437,\n        \"min\": -3.170783530124948,\n        \"max\": -1.2118584192988318,\n        \"num_unique_values\": 6,\n        \"samples\": [\n          -3.170783530124948\n        ],\n        \"semantic_type\": \"\",\n        \"description\": \"\"\n      }\n    },\n    {\n      \"column\": \"25%\",\n      \"properties\": {\n        \"dtype\": \"number\",\n        \"std\": 0.19473132127464027,\n        \"min\": -0.9454473267267194,\n        \"max\": -0.4014114235676847,\n        \"num_unique_values\": 6,\n        \"samples\": [\n          -0.6645138225416359\n        ],\n        \"semantic_type\": \"\",\n        \"description\": \"\"\n      }\n    },\n    {\n      \"column\": \"50%\",\n      \"properties\": {\n        \"dtype\": \"number\",\n        \"std\": 0.1646825504689529,\n        \"min\": -0.4014114235676847,\n        \"max\": 0.02651641438595255,\n        \"num_unique_values\": 6,\n        \"samples\": [\n          0.0038247661472472732\n        ],\n        \"semantic_type\": \"\",\n        \"description\": \"\"\n      }\n    },\n    {\n      \"column\": \"75%\",\n      \"properties\": {\n        \"dtype\": \"number\",\n        \"std\": 0.21335366004376216,\n        \"min\": 0.40903557216346226,\n        \"max\": 0.9984801554986245,\n        \"num_unique_values\": 6,\n        \"samples\": [\n          0.6721633548361304\n        ],\n        \"semantic_type\": \"\",\n        \"description\": \"\"\n      }\n    },\n    {\n      \"column\": \"max\",\n      \"properties\": {\n        \"dtype\": \"number\",\n        \"std\": 1.4394875207181441,\n        \"min\": 1.7298236467644375,\n        \"max\": 5.271717546550344,\n        \"num_unique_values\": 6,\n        \"samples\": [\n          4.013856298280547\n        ],\n        \"semantic_type\": \"\",\n        \"description\": \"\"\n      }\n    }\n  ]\n}"
            }
          },
          "metadata": {},
          "execution_count": 10
        }
      ]
    },
    {
      "cell_type": "markdown",
      "source": [
        "##**Etapa 6 - Separação dos dados (Hold-out)**"
      ],
      "metadata": {
        "id": "RXLR2_jJ14EM"
      }
    },
    {
      "cell_type": "markdown",
      "source": [
        "**Etapa 6.1 - Criação da variável alvo para classificação**\n",
        "\n",
        "Para a aplicação de algoritmos de classificação, é preciso transformar a variável numérica 'Exam_Score' em categórica.\n",
        "A ideia é agrupar os valores em faixas que representam o desempenho dos alunos em Ruim, Regular, Bom e Excelente."
      ],
      "metadata": {
        "id": "fxn29D142DK2"
      }
    },
    {
      "cell_type": "code",
      "source": [
        "# Criando a variável Score_Class baseada nas faixas de nota\n",
        "df['Score_Class'] = pd.cut(df['Exam_Score'],\n",
        "                           bins=[0, 50, 70, 85, 100],\n",
        "                           labels=['Ruim', 'Regular', 'Bom', 'Excelente'])\n",
        "\n",
        "# Removendo registros sem classificação, por prevenção\n",
        "df.dropna(subset=['Score_Class'], inplace=True)\n",
        "\n",
        "# Codificando a nova coluna\n",
        "df['Score_Class'] = le.fit_transform(df['Score_Class'])"
      ],
      "metadata": {
        "id": "BtbZq-4j2yS2"
      },
      "execution_count": 12,
      "outputs": []
    },
    {
      "cell_type": "markdown",
      "source": [
        "**Etapa 6.2 - Separação das variáveis preditivas (x) e alvo (y) para a classificação**\n",
        "\n",
        "Para o treinamento dos modelos de classificação, devemos remover as variáveis alvo do DataFrame e separar\n",
        "os dados em X (entradas) e y (rótulo/classificação)."
      ],
      "metadata": {
        "id": "dmXHYxCU3Hr-"
      }
    },
    {
      "cell_type": "code",
      "source": [
        "X_class = df.drop(columns=['Exam_Score', 'Score_Class'])\n",
        "y_class = df['Score_Class']"
      ],
      "metadata": {
        "id": "otgmCKUu3m5b"
      },
      "execution_count": 14,
      "outputs": []
    },
    {
      "cell_type": "markdown",
      "source": [
        "**Etapa 6.3 - Separação das variáveis preditoras (X) e alvo (y) para a regressão**\n",
        "\n",
        "Para a regressão, a variável alvo será a própria nota (Exam_Score), que é uma variável contínua. A remoção da coluna Score_Class será feita para evitar a influência da classificação nos modelos de regressão."
      ],
      "metadata": {
        "id": "DE8dmahB3q0J"
      }
    },
    {
      "cell_type": "code",
      "source": [
        "X_reg = df.drop(columns=['Exam_Score', 'Score_Class'])\n",
        "y_reg = df['Exam_Score']"
      ],
      "metadata": {
        "id": "RYgkzSER4N1e"
      },
      "execution_count": 15,
      "outputs": []
    },
    {
      "cell_type": "markdown",
      "source": [
        "**Etapa 6.4 - Aplicação da divisão Houd-out**\n",
        "\n",
        "O Hold-out é uma técnica de validação simples consistindo em separar os dados em dois subconjuntos: treino, para construir os modelos, e teste, para avaliação.\n",
        "A proporção padrão usada será de 70% para treino e 30% para teste."
      ],
      "metadata": {
        "id": "9d9Tv2714UsZ"
      }
    },
    {
      "cell_type": "code",
      "source": [
        "# Separação dos dados para classificação\n",
        "Xc_train, Xc_test, yc_train, yc_test = train_test_split(X_class, y_class, test_size=0.3, random_state=42)\n",
        "\n",
        "# Separação os dados para regressão\n",
        "Xr_train, Xr_test, yr_train, yr_test = train_test_split(X_reg, y_reg, test_size=0.3, random_state=42)\n"
      ],
      "metadata": {
        "id": "KzNbtgOx9qFs"
      },
      "execution_count": 16,
      "outputs": []
    },
    {
      "cell_type": "markdown",
      "source": [
        "##**Etapa 7 - Aplicação dos modelos de classificação**\n",
        "\n",
        "Agora serão aplicados os cinco algoritmos de classificação solicitados no enunciado do trabalho:\n",
        "Regressão Logística, Árvore de Decisão, Random Forest, SVM e KNN.\n",
        "Cada modelo será avaliado com as principais métricas de classificação: Acurácia, Precisão, Revocação (Recall) e F1-Score.\n",
        "O conjunto de teste, à parte dos dados não vistos pelo modelo, será utilizado para garantir uma avaliação justa."
      ],
      "metadata": {
        "id": "wwBrsHprF8Om"
      }
    },
    {
      "cell_type": "markdown",
      "source": [
        "**Etapa 7.1 - Regressão Logística**"
      ],
      "metadata": {
        "id": "g32Vvx3mKL9l"
      }
    },
    {
      "cell_type": "code",
      "source": [
        "print(\"\\nREGRESSÃO LOGÍSTICA\")\n",
        "log_model = LogisticRegression()\n",
        "log_model.fit(Xc_train, yc_train)\n",
        "yc_pred_log = log_model.predict(Xc_test)\n",
        "\n",
        "print(\"Acurácia:\", accuracy_score(yc_test, yc_pred_log))\n",
        "print(\"Precisão:\", precision_score(yc_test, yc_pred_log, average='macro'))\n",
        "print(\"Recall:\", recall_score(yc_test, yc_pred_log, average='macro'))\n",
        "print(\"F1-Score:\", f1_score(yc_test, yc_pred_log, average='macro'))"
      ],
      "metadata": {
        "colab": {
          "base_uri": "https://localhost:8080/"
        },
        "id": "efUaW_qJKXyu",
        "outputId": "87778b77-f0a9-4ee3-9fad-34b50e4c9346"
      },
      "execution_count": 17,
      "outputs": [
        {
          "output_type": "stream",
          "name": "stdout",
          "text": [
            "\n",
            "REGRESSÃO LOGÍSTICA\n",
            "Acurácia: 0.9284221525600836\n",
            "Precisão: 0.5906164075236635\n",
            "Recall: 0.5638238083768451\n",
            "F1-Score: 0.5758931742311244\n"
          ]
        }
      ]
    },
    {
      "cell_type": "markdown",
      "source": [
        "**Etapa 7.2 - Árvore de Decisão**"
      ],
      "metadata": {
        "id": "27iuHx9TKhSK"
      }
    },
    {
      "cell_type": "code",
      "source": [
        "print(\"\\nÁRVORE DE DECISÃO\")\n",
        "tree_model = DecisionTreeClassifier(random_state=42)\n",
        "tree_model.fit(Xc_train, yc_train)\n",
        "yc_pred_tree = tree_model.predict(Xc_test)\n",
        "\n",
        "print(\"Acurácia:\", accuracy_score(yc_test, yc_pred_tree))\n",
        "print(\"Precisão:\", precision_score(yc_test, yc_pred_tree, average='macro'))\n",
        "print(\"Recall:\", recall_score(yc_test, yc_pred_tree, average='macro'))\n",
        "print(\"F1-Score:\", f1_score(yc_test, yc_pred_tree, average='macro'))"
      ],
      "metadata": {
        "colab": {
          "base_uri": "https://localhost:8080/"
        },
        "id": "tThyvONhKn8G",
        "outputId": "2345eee4-9cba-4f76-9557-f4102a8720b6"
      },
      "execution_count": 18,
      "outputs": [
        {
          "output_type": "stream",
          "name": "stdout",
          "text": [
            "\n",
            "ÁRVORE DE DECISÃO\n",
            "Acurácia: 0.8605015673981191\n",
            "Precisão: 0.5074275439873283\n",
            "Recall: 0.5147293562438509\n",
            "F1-Score: 0.5107629804257395\n"
          ]
        }
      ]
    },
    {
      "cell_type": "markdown",
      "source": [
        "**Etapa 7.3 - Random Forest**"
      ],
      "metadata": {
        "id": "GkMscM3TKs-a"
      }
    },
    {
      "cell_type": "code",
      "source": [
        "print(\"\\nRANDOM FOREST\")\n",
        "rf_model = RandomForestClassifier(n_estimators=100, random_state=42)\n",
        "rf_model.fit(Xc_train, yc_train)\n",
        "yc_pred_rf = rf_model.predict(Xc_test)\n",
        "\n",
        "print(\"Acurácia:\", accuracy_score(yc_test, yc_pred_rf))\n",
        "print(\"Precisão:\", precision_score(yc_test, yc_pred_rf, average='macro'))\n",
        "print(\"Recall:\", recall_score(yc_test, yc_pred_rf, average='macro'))\n",
        "print(\"F1-Score:\", f1_score(yc_test, yc_pred_rf, average='macro'))"
      ],
      "metadata": {
        "colab": {
          "base_uri": "https://localhost:8080/"
        },
        "id": "uEhAFpFfKyqI",
        "outputId": "eed113c2-d717-45a6-8978-0fa5fce63661"
      },
      "execution_count": 20,
      "outputs": [
        {
          "output_type": "stream",
          "name": "stdout",
          "text": [
            "\n",
            "RANDOM FOREST\n",
            "Acurácia: 0.9242424242424242\n",
            "Precisão: 0.6122362820394188\n",
            "Recall: 0.5304378118795579\n",
            "F1-Score: 0.5604153842375498\n"
          ]
        }
      ]
    },
    {
      "cell_type": "markdown",
      "source": [
        "**Etapa 7.4 - SVM (kernel linear)**"
      ],
      "metadata": {
        "id": "oVlgVMRiK4ru"
      }
    },
    {
      "cell_type": "code",
      "source": [
        "print(\"\\nSVM\")\n",
        "svm_model = SVC(kernel='linear', C=1.0)\n",
        "svm_model.fit(Xc_train, yc_train)\n",
        "yc_pred_svm = svm_model.predict(Xc_test)\n",
        "\n",
        "print(\"Acurácia:\", accuracy_score(yc_test, yc_pred_svm))\n",
        "print(\"Precisão:\", precision_score(yc_test, yc_pred_svm, average='macro'))\n",
        "print(\"Recall:\", recall_score(yc_test, yc_pred_svm, average='macro'))\n",
        "print(\"F1-Score:\", f1_score(yc_test, yc_pred_svm, average='macro'))"
      ],
      "metadata": {
        "colab": {
          "base_uri": "https://localhost:8080/"
        },
        "id": "1VoEZrMdLArG",
        "outputId": "d452eab8-46c1-48af-baf0-c91e5f8dd7fe"
      },
      "execution_count": 21,
      "outputs": [
        {
          "output_type": "stream",
          "name": "stdout",
          "text": [
            "\n",
            "SVM\n",
            "Acurácia: 0.9263322884012539\n",
            "Precisão: 0.5858962647178237\n",
            "Recall: 0.5638721169639346\n",
            "F1-Score: 0.5739481114678372\n"
          ]
        }
      ]
    },
    {
      "cell_type": "markdown",
      "source": [
        "**Etapa 7.5 - KNN (K=5)**"
      ],
      "metadata": {
        "id": "ZqbiAAs6LHS2"
      }
    },
    {
      "cell_type": "code",
      "source": [
        "print(\"\\nKNN\")\n",
        "knn_model = KNeighborsClassifier(n_neighbors=5)\n",
        "knn_model.fit(Xc_train, yc_train)\n",
        "yc_pred_knn = knn_model.predict(Xc_test)\n",
        "\n",
        "print(\"Acurácia:\", accuracy_score(yc_test, yc_pred_knn))\n",
        "print(\"Precisão:\", precision_score(yc_test, yc_pred_knn, average='macro'))\n",
        "print(\"Recall:\", recall_score(yc_test, yc_pred_knn, average='macro'))\n",
        "print(\"F1-Score:\", f1_score(yc_test, yc_pred_knn, average='macro'))"
      ],
      "metadata": {
        "colab": {
          "base_uri": "https://localhost:8080/"
        },
        "id": "Qv3co8k1LMye",
        "outputId": "b5f3c898-3d3e-46e8-8126-0ae9a837c261"
      },
      "execution_count": 30,
      "outputs": [
        {
          "output_type": "stream",
          "name": "stdout",
          "text": [
            "\n",
            "KNN\n",
            "Acurácia: 0.8892371995820272\n",
            "Precisão: 0.5684438243418457\n",
            "Recall: 0.4697887621979182\n",
            "F1-Score: 0.4989667797600992\n"
          ]
        }
      ]
    },
    {
      "cell_type": "markdown",
      "source": [
        "##**Etapa 8 - Aplicação dos modelos de regressão**\n",
        "\n",
        "Nesta etapa serão aplicados os quatro algoritmos de regressão: Regressão Linear, Árvore de Regressão, Random Forest Regressor e SVR (kernel linear). O objetivo é prever diretamente a nota dos estudantes (Exam_Score), que é um valor contínuo. Para avaliar o desempenho de cada modelo, as métricas utilizadas serão: Erro Médio Absoluto (MAE) e Raiz do Erro Quadrático Médio (RMSE)."
      ],
      "metadata": {
        "id": "Waeq6R3BQrq7"
      }
    },
    {
      "cell_type": "markdown",
      "source": [
        "**Etapa 8.1 - Regressão Linear**"
      ],
      "metadata": {
        "id": "gZY5LRoLRlFQ"
      }
    },
    {
      "cell_type": "code",
      "source": [
        "print(\"\\nREGRESSÃO LINEAR\")\n",
        "lin_model = LinearRegression()\n",
        "lin_model.fit(Xr_train, yr_train)\n",
        "yr_pred_lin = lin_model.predict(Xr_test)\n",
        "\n",
        "mae_lin = mean_absolute_error(yr_test, yr_pred_lin)\n",
        "rmse_lin = np.sqrt(mean_squared_error(yr_test, yr_pred_lin))\n",
        "\n",
        "print(\"MAE:\", mae_lin)\n",
        "print(\"RMSE:\", rmse_lin)"
      ],
      "metadata": {
        "colab": {
          "base_uri": "https://localhost:8080/"
        },
        "id": "kzYPp46ZRrH2",
        "outputId": "22f6ba71-7e01-44f0-c6f8-3f3461aeef97"
      },
      "execution_count": 32,
      "outputs": [
        {
          "output_type": "stream",
          "name": "stdout",
          "text": [
            "\n",
            "REGRESSÃO LINEAR\n",
            "MAE: 1.036219515016636\n",
            "RMSE: 2.097675271255808\n"
          ]
        }
      ]
    },
    {
      "cell_type": "markdown",
      "source": [
        "Etapa 8.2 - Árvore de Regressão"
      ],
      "metadata": {
        "id": "qFlVHmw1Sylj"
      }
    },
    {
      "cell_type": "code",
      "source": [
        "print(\"\\nÁRVORE DE REGRESSÃO\")\n",
        "tree_reg = DecisionTreeRegressor(random_state=42)\n",
        "tree_reg.fit(Xr_train, yr_train)\n",
        "yr_pred_tree = tree_reg.predict(Xr_test)\n",
        "\n",
        "mae_tree = mean_absolute_error(yr_test, yr_pred_tree)\n",
        "rmse_tree = np.sqrt(yr_test, yr_pred_tree)\n",
        "\n",
        "print(\"MAE:\", mae_tree)\n",
        "print(\"RMSE:\", rmse_tree)"
      ],
      "metadata": {
        "colab": {
          "base_uri": "https://localhost:8080/"
        },
        "id": "3FSgT-5hS3Wh",
        "outputId": "9cbdd4ce-1be7-4b28-bb61-b3e1a533cd3e"
      },
      "execution_count": 36,
      "outputs": [
        {
          "output_type": "stream",
          "name": "stdout",
          "text": [
            "\n",
            "ÁRVORE DE REGRESSÃO\n",
            "MAE: 1.910135841170324\n",
            "RMSE: 2813    8.246211\n",
            "4421    8.124038\n",
            "3190    8.000000\n",
            "1246    8.485281\n",
            "4699    8.185353\n",
            "          ...   \n",
            "1115    8.306624\n",
            "746     8.124038\n",
            "6260    8.185353\n",
            "6497    8.062258\n",
            "1565    8.000000\n",
            "Name: Exam_Score, Length: 1914, dtype: float64\n"
          ]
        }
      ]
    },
    {
      "cell_type": "markdown",
      "source": [
        "Etapa 8.3 - Random Forest Regressor"
      ],
      "metadata": {
        "id": "NkRk_Qh6TNg9"
      }
    },
    {
      "cell_type": "code",
      "source": [
        "print(\"\\nRANDOM FOREST REGRESSOR\")\n",
        "rf_reg = RandomForestRegressor(n_estimators=100, random_state=42)\n",
        "rf_reg.fit(Xr_train, yr_train)\n",
        "yr_pred_rf = rf_reg.predict(Xr_test)\n",
        "\n",
        "mae_rf = mean_absolute_error(yr_test, yr_pred_rf)\n",
        "rmse_rf = np.sqrt(yr_test, yr_pred_rf)\n",
        "\n",
        "print(\"MAE:\", mae_rf)\n",
        "print(\"RMSE:\", rmse_rf)"
      ],
      "metadata": {
        "colab": {
          "base_uri": "https://localhost:8080/"
        },
        "id": "Rs_h1AtMTWAv",
        "outputId": "e937c31f-6a05-47dd-c798-81eb5195a195"
      },
      "execution_count": 38,
      "outputs": [
        {
          "output_type": "stream",
          "name": "stdout",
          "text": [
            "\n",
            "RANDOM FOREST REGRESSOR\n",
            "MAE: 1.1676384535005224\n",
            "RMSE: 2813    8.246211\n",
            "4421    8.124038\n",
            "3190    8.000000\n",
            "1246    8.485281\n",
            "4699    8.185353\n",
            "          ...   \n",
            "1115    8.306624\n",
            "746     8.124038\n",
            "6260    8.185353\n",
            "6497    8.062258\n",
            "1565    8.000000\n",
            "Name: Exam_Score, Length: 1914, dtype: float64\n"
          ]
        }
      ]
    },
    {
      "cell_type": "markdown",
      "source": [
        "**Etapa 8.4 - SVR (kernel linear)**"
      ],
      "metadata": {
        "id": "XdD-s1TmTpif"
      }
    },
    {
      "cell_type": "code",
      "source": [
        "print(\"\\nSVR\")\n",
        "svr_model = SVR(kernel='linear', C=1.0)\n",
        "svr_model.fit(Xr_train, yr_train)\n",
        "yr_pred_svr = svr_model.predict(Xr_test)\n",
        "\n",
        "mae_svr = mean_absolute_error(yr_test, yr_pred_svr)\n",
        "rmse_svr = np.sqrt(yr_test, yr_pred_svr)\n",
        "\n",
        "print(\"MAE:\", mae_svr)\n",
        "print(\"RMSE:\", rmse_svr)"
      ],
      "metadata": {
        "colab": {
          "base_uri": "https://localhost:8080/"
        },
        "id": "LUgR1cCqTxn8",
        "outputId": "6dc01fb0-159d-4ad8-8400-fc3c95aeaf60"
      },
      "execution_count": 42,
      "outputs": [
        {
          "output_type": "stream",
          "name": "stdout",
          "text": [
            "\n",
            "SVR\n",
            "MAE: 1.0292468395801548\n",
            "RMSE: 2813    8.246211\n",
            "4421    8.124038\n",
            "3190    8.000000\n",
            "1246    8.485281\n",
            "4699    8.185353\n",
            "          ...   \n",
            "1115    8.306624\n",
            "746     8.124038\n",
            "6260    8.185353\n",
            "6497    8.062258\n",
            "1565    8.000000\n",
            "Name: Exam_Score, Length: 1914, dtype: float64\n"
          ]
        }
      ]
    }
  ]
}